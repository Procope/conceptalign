{
 "cells": [
  {
   "cell_type": "code",
   "execution_count": 1,
   "metadata": {},
   "outputs": [
    {
     "name": "stderr",
     "output_type": "stream",
     "text": [
      "100%|██████████| 1236/1236 [00:00<00:00, 388996.75it/s]\n"
     ]
    },
    {
     "name": "stdout",
     "output_type": "stream",
     "text": [
      "Loading threads from original json file...\n"
     ]
    },
    {
     "name": "stderr",
     "output_type": "stream",
     "text": [
      " 55%|█████▍    | 91229/166322 [00:00<00:00, 463192.11it/s]"
     ]
    },
    {
     "name": "stdout",
     "output_type": "stream",
     "text": [
      "166322 threads loaded.\n",
      "Process threads.\n"
     ]
    },
    {
     "name": "stderr",
     "output_type": "stream",
     "text": [
      "100%|██████████| 166322/166322 [00:00<00:00, 461955.82it/s]\n",
      "100%|██████████| 12395/12395 [00:00<00:00, 284255.81it/s]\n"
     ]
    },
    {
     "name": "stdout",
     "output_type": "stream",
     "text": [
      "12395 valid utterances found.\n",
      "Utterances written to tab-separated file tsv/WikiControversial-environment.tsv\n"
     ]
    }
   ],
   "source": [
    "%matplotlib inline\n",
    "\n",
    "import matplotlib.pyplot as plt\n",
    "import numpy as np\n",
    "\n",
    "import pymc3 as pm \n",
    "import pandas as pd\n",
    "import utils\n",
    "\n",
    "from talkpages import WikiCorpusReader, WikiCorpus\n",
    "from alignment import Alignment\n",
    "\n",
    "from collections import defaultdict\n",
    "\n",
    "TOPIC = 'environment'\n",
    "\n",
    "corpus_reader = WikiCorpusReader('../../data/controversial/')\n",
    "tsv_filename = corpus_reader.json_to_tsv('tsv/', topic_list=[TOPIC])\n",
    "corpus = WikiCorpus(tsv_filename)"
   ]
  },
  {
   "cell_type": "code",
   "execution_count": 2,
   "metadata": {},
   "outputs": [
    {
     "name": "stderr",
     "output_type": "stream",
     "text": [
      "Tokenizing posts.: 100%|██████████| 12395/12395 [05:53<00:00, 35.09it/s]\n",
      "Detecting article.: 100%|██████████| 12395/12395 [00:00<00:00, 98646.34it/s] \n",
      "Detecting auxverb.:   0%|          | 0/12395 [00:00<?, ?it/s]"
     ]
    },
    {
     "name": "stdout",
     "output_type": "stream",
     "text": [
      "Filtered 0 posts with 0-length utterances\n"
     ]
    },
    {
     "name": "stderr",
     "output_type": "stream",
     "text": [
      "Detecting auxverb.: 100%|██████████| 12395/12395 [00:03<00:00, 3613.45it/s]\n",
      "Detecting conj.: 100%|██████████| 12395/12395 [00:00<00:00, 17968.49it/s]\n",
      "Detecting adverb.: 100%|██████████| 12395/12395 [00:01<00:00, 7856.93it/s]\n",
      "Detecting ppron.: 100%|██████████| 12395/12395 [00:01<00:00, 7110.07it/s]\n",
      "Detecting ipron.: 100%|██████████| 12395/12395 [00:01<00:00, 11586.15it/s]\n",
      "Detecting preps.: 100%|██████████| 12395/12395 [00:01<00:00, 8751.44it/s]\n",
      "Detecting quant.: 100%|██████████| 12395/12395 [00:02<00:00, 6044.51it/s]\n"
     ]
    }
   ],
   "source": [
    "corpus.tokenize_posts()\n",
    "    \n",
    "markers, marker_words = utils.read_convokit_markers('../coord-liwc-patterns.txt')\n",
    "categories = list(markers.keys())\n",
    "\n",
    "corpus.count_marker_categories(markers)"
   ]
  },
  {
   "cell_type": "code",
   "execution_count": 3,
   "metadata": {},
   "outputs": [],
   "source": [
    "pairs = corpus.reply_pairs()\n",
    "al = Alignment(corpus, markers)"
   ]
  },
  {
   "cell_type": "code",
   "execution_count": 4,
   "metadata": {},
   "outputs": [
    {
     "name": "stderr",
     "output_type": "stream",
     "text": [
      "100%|██████████| 6568/6568 [00:00<00:00, 6683.40it/s]\n",
      " 14%|█▍        | 952/6568 [00:00<00:00, 9516.79it/s]"
     ]
    },
    {
     "name": "stdout",
     "output_type": "stream",
     "text": [
      "Build network.\n"
     ]
    },
    {
     "name": "stderr",
     "output_type": "stream",
     "text": [
      "100%|██████████| 6568/6568 [00:00<00:00, 10291.46it/s]\n"
     ]
    },
    {
     "name": "stdout",
     "output_type": "stream",
     "text": [
      "The unpruned network has 2095 nodes (users).\n",
      "Centrality information has been assigned to all pairs.\n"
     ]
    }
   ],
   "source": [
    "users = corpus.get_users()\n",
    "net = corpus.social_network(prune=False)\n",
    "corpus.assign_centrality('eigenvector')"
   ]
  },
  {
   "cell_type": "code",
   "execution_count": 5,
   "metadata": {},
   "outputs": [
    {
     "name": "stderr",
     "output_type": "stream",
     "text": [
      "100%|██████████| 6568/6568 [00:03<00:00, 2054.71it/s]\n"
     ]
    }
   ],
   "source": [
    "N_base, N_align, C_base, C_align, dyad2cent = al.counts(mode='categorical', centrality='eigenvector')"
   ]
  },
  {
   "cell_type": "code",
   "execution_count": 6,
   "metadata": {},
   "outputs": [],
   "source": [
    "centr_A, centr_B = zip(*dyad2cent.values())"
   ]
  },
  {
   "cell_type": "code",
   "execution_count": 7,
   "metadata": {},
   "outputs": [],
   "source": [
    "def invlogit(x):\n",
    "    return pm.math.exp(x) / (1 + pm.math.exp(x))"
   ]
  },
  {
   "cell_type": "code",
   "execution_count": 9,
   "metadata": {},
   "outputs": [
    {
     "name": "stderr",
     "output_type": "stream",
     "text": [
      "logp = -8,567.9, ||grad|| = 23.391: 100%|██████████| 29/29 [00:00<00:00, 582.62it/s]  \n",
      "Auto-assigning NUTS sampler...\n",
      "INFO:pymc3:Auto-assigning NUTS sampler...\n",
      "Initializing NUTS using jitter+adapt_diag...\n",
      "INFO:pymc3:Initializing NUTS using jitter+adapt_diag...\n",
      "Multiprocess sampling (4 chains in 2 jobs)\n",
      "INFO:pymc3:Multiprocess sampling (4 chains in 2 jobs)\n",
      "NUTS: [beta2_align, beta1_align, beta0_align, beta0_base]\n",
      "INFO:pymc3:NUTS: [beta2_align, beta1_align, beta0_align, beta0_base]\n",
      "Sampling 4 chains: 100%|██████████| 10000/10000 [01:23<00:00, 120.41draws/s]\n",
      "The acceptance probability does not match the target. It is 0.9140837216664544, but should be close to 0.8. Try to increase the number of tuning steps.\n",
      "WARNING:pymc3:The acceptance probability does not match the target. It is 0.9140837216664544, but should be close to 0.8. Try to increase the number of tuning steps.\n",
      "The acceptance probability does not match the target. It is 0.8852397799486448, but should be close to 0.8. Try to increase the number of tuning steps.\n",
      "WARNING:pymc3:The acceptance probability does not match the target. It is 0.8852397799486448, but should be close to 0.8. Try to increase the number of tuning steps.\n",
      "logp = -8,693.9, ||grad|| = 5.1971: 100%|██████████| 26/26 [00:00<00:00, 610.00it/s]  \n",
      "Auto-assigning NUTS sampler...\n",
      "INFO:pymc3:Auto-assigning NUTS sampler...\n",
      "Initializing NUTS using jitter+adapt_diag...\n",
      "INFO:pymc3:Initializing NUTS using jitter+adapt_diag...\n",
      "Multiprocess sampling (4 chains in 2 jobs)\n",
      "INFO:pymc3:Multiprocess sampling (4 chains in 2 jobs)\n",
      "NUTS: [beta2_align, beta1_align, beta0_align, beta0_base]\n",
      "INFO:pymc3:NUTS: [beta2_align, beta1_align, beta0_align, beta0_base]\n",
      "Sampling 4 chains: 100%|██████████| 10000/10000 [01:35<00:00, 104.58draws/s]\n",
      "The acceptance probability does not match the target. It is 0.8906965712139229, but should be close to 0.8. Try to increase the number of tuning steps.\n",
      "WARNING:pymc3:The acceptance probability does not match the target. It is 0.8906965712139229, but should be close to 0.8. Try to increase the number of tuning steps.\n",
      "The acceptance probability does not match the target. It is 0.8933506115918649, but should be close to 0.8. Try to increase the number of tuning steps.\n",
      "WARNING:pymc3:The acceptance probability does not match the target. It is 0.8933506115918649, but should be close to 0.8. Try to increase the number of tuning steps.\n",
      "The acceptance probability does not match the target. It is 0.8914431178222403, but should be close to 0.8. Try to increase the number of tuning steps.\n",
      "WARNING:pymc3:The acceptance probability does not match the target. It is 0.8914431178222403, but should be close to 0.8. Try to increase the number of tuning steps.\n",
      "logp = -7,638.7, ||grad|| = 16.535: 100%|██████████| 27/27 [00:00<00:00, 585.23it/s]  \n",
      "Auto-assigning NUTS sampler...\n",
      "INFO:pymc3:Auto-assigning NUTS sampler...\n",
      "Initializing NUTS using jitter+adapt_diag...\n",
      "INFO:pymc3:Initializing NUTS using jitter+adapt_diag...\n",
      "Multiprocess sampling (4 chains in 2 jobs)\n",
      "INFO:pymc3:Multiprocess sampling (4 chains in 2 jobs)\n",
      "NUTS: [beta2_align, beta1_align, beta0_align, beta0_base]\n",
      "INFO:pymc3:NUTS: [beta2_align, beta1_align, beta0_align, beta0_base]\n",
      "Sampling 4 chains: 100%|██████████| 10000/10000 [01:19<00:00, 104.77draws/s]\n",
      "The acceptance probability does not match the target. It is 0.8878590507413368, but should be close to 0.8. Try to increase the number of tuning steps.\n",
      "WARNING:pymc3:The acceptance probability does not match the target. It is 0.8878590507413368, but should be close to 0.8. Try to increase the number of tuning steps.\n",
      "The acceptance probability does not match the target. It is 0.887543146248955, but should be close to 0.8. Try to increase the number of tuning steps.\n",
      "WARNING:pymc3:The acceptance probability does not match the target. It is 0.887543146248955, but should be close to 0.8. Try to increase the number of tuning steps.\n",
      "The acceptance probability does not match the target. It is 0.8930580508222059, but should be close to 0.8. Try to increase the number of tuning steps.\n",
      "WARNING:pymc3:The acceptance probability does not match the target. It is 0.8930580508222059, but should be close to 0.8. Try to increase the number of tuning steps.\n",
      "The acceptance probability does not match the target. It is 0.8862156517712558, but should be close to 0.8. Try to increase the number of tuning steps.\n",
      "WARNING:pymc3:The acceptance probability does not match the target. It is 0.8862156517712558, but should be close to 0.8. Try to increase the number of tuning steps.\n",
      "logp = -7,890.4, ||grad|| = 9.1203: 100%|██████████| 28/28 [00:00<00:00, 649.38it/s]  \n",
      "Auto-assigning NUTS sampler...\n",
      "INFO:pymc3:Auto-assigning NUTS sampler...\n",
      "Initializing NUTS using jitter+adapt_diag...\n",
      "INFO:pymc3:Initializing NUTS using jitter+adapt_diag...\n",
      "Multiprocess sampling (4 chains in 2 jobs)\n",
      "INFO:pymc3:Multiprocess sampling (4 chains in 2 jobs)\n",
      "NUTS: [beta2_align, beta1_align, beta0_align, beta0_base]\n",
      "INFO:pymc3:NUTS: [beta2_align, beta1_align, beta0_align, beta0_base]\n",
      "Sampling 4 chains: 100%|██████████| 10000/10000 [01:29<00:00, 111.29draws/s]\n",
      "The acceptance probability does not match the target. It is 0.8887915731845452, but should be close to 0.8. Try to increase the number of tuning steps.\n",
      "WARNING:pymc3:The acceptance probability does not match the target. It is 0.8887915731845452, but should be close to 0.8. Try to increase the number of tuning steps.\n",
      "The acceptance probability does not match the target. It is 0.8866008742828158, but should be close to 0.8. Try to increase the number of tuning steps.\n",
      "WARNING:pymc3:The acceptance probability does not match the target. It is 0.8866008742828158, but should be close to 0.8. Try to increase the number of tuning steps.\n",
      "The acceptance probability does not match the target. It is 0.8819662726425039, but should be close to 0.8. Try to increase the number of tuning steps.\n",
      "WARNING:pymc3:The acceptance probability does not match the target. It is 0.8819662726425039, but should be close to 0.8. Try to increase the number of tuning steps.\n",
      "logp = -9,176.1, ||grad|| = 160.84: 100%|██████████| 29/29 [00:00<00:00, 637.20it/s]  \n",
      "Auto-assigning NUTS sampler...\n",
      "INFO:pymc3:Auto-assigning NUTS sampler...\n",
      "Initializing NUTS using jitter+adapt_diag...\n",
      "INFO:pymc3:Initializing NUTS using jitter+adapt_diag...\n",
      "Multiprocess sampling (4 chains in 2 jobs)\n",
      "INFO:pymc3:Multiprocess sampling (4 chains in 2 jobs)\n",
      "NUTS: [beta2_align, beta1_align, beta0_align, beta0_base]\n",
      "INFO:pymc3:NUTS: [beta2_align, beta1_align, beta0_align, beta0_base]\n",
      "Sampling 4 chains: 100%|██████████| 10000/10000 [01:13<00:00, 111.96draws/s]\n",
      "The acceptance probability does not match the target. It is 0.8960539363335812, but should be close to 0.8. Try to increase the number of tuning steps.\n",
      "WARNING:pymc3:The acceptance probability does not match the target. It is 0.8960539363335812, but should be close to 0.8. Try to increase the number of tuning steps.\n",
      "The acceptance probability does not match the target. It is 0.8927142317269112, but should be close to 0.8. Try to increase the number of tuning steps.\n",
      "WARNING:pymc3:The acceptance probability does not match the target. It is 0.8927142317269112, but should be close to 0.8. Try to increase the number of tuning steps.\n",
      "The acceptance probability does not match the target. It is 0.8929862149689374, but should be close to 0.8. Try to increase the number of tuning steps.\n",
      "WARNING:pymc3:The acceptance probability does not match the target. It is 0.8929862149689374, but should be close to 0.8. Try to increase the number of tuning steps.\n",
      "logp = -8,562.6, ||grad|| = 17.923: 100%|██████████| 27/27 [00:00<00:00, 624.03it/s]  \n",
      "Auto-assigning NUTS sampler...\n",
      "INFO:pymc3:Auto-assigning NUTS sampler...\n",
      "Initializing NUTS using jitter+adapt_diag...\n",
      "INFO:pymc3:Initializing NUTS using jitter+adapt_diag...\n",
      "Multiprocess sampling (4 chains in 2 jobs)\n",
      "INFO:pymc3:Multiprocess sampling (4 chains in 2 jobs)\n",
      "NUTS: [beta2_align, beta1_align, beta0_align, beta0_base]\n",
      "INFO:pymc3:NUTS: [beta2_align, beta1_align, beta0_align, beta0_base]\n",
      "Sampling 4 chains: 100%|██████████| 10000/10000 [01:29<00:00, 96.20draws/s]\n",
      "The acceptance probability does not match the target. It is 0.895477789875126, but should be close to 0.8. Try to increase the number of tuning steps.\n"
     ]
    },
    {
     "name": "stderr",
     "output_type": "stream",
     "text": [
      "WARNING:pymc3:The acceptance probability does not match the target. It is 0.895477789875126, but should be close to 0.8. Try to increase the number of tuning steps.\n",
      "The acceptance probability does not match the target. It is 0.8957349170343957, but should be close to 0.8. Try to increase the number of tuning steps.\n",
      "WARNING:pymc3:The acceptance probability does not match the target. It is 0.8957349170343957, but should be close to 0.8. Try to increase the number of tuning steps.\n",
      "logp = -8,970.1, ||grad|| = 166.56: 100%|██████████| 29/29 [00:00<00:00, 658.75it/s]  \n",
      "Auto-assigning NUTS sampler...\n",
      "INFO:pymc3:Auto-assigning NUTS sampler...\n",
      "Initializing NUTS using jitter+adapt_diag...\n",
      "INFO:pymc3:Initializing NUTS using jitter+adapt_diag...\n",
      "Multiprocess sampling (4 chains in 2 jobs)\n",
      "INFO:pymc3:Multiprocess sampling (4 chains in 2 jobs)\n",
      "NUTS: [beta2_align, beta1_align, beta0_align, beta0_base]\n",
      "INFO:pymc3:NUTS: [beta2_align, beta1_align, beta0_align, beta0_base]\n",
      "Sampling 4 chains: 100%|██████████| 10000/10000 [01:28<00:00, 70.42draws/s]\n",
      "The acceptance probability does not match the target. It is 0.8831547140307391, but should be close to 0.8. Try to increase the number of tuning steps.\n",
      "WARNING:pymc3:The acceptance probability does not match the target. It is 0.8831547140307391, but should be close to 0.8. Try to increase the number of tuning steps.\n",
      "The acceptance probability does not match the target. It is 0.9132776327957636, but should be close to 0.8. Try to increase the number of tuning steps.\n",
      "WARNING:pymc3:The acceptance probability does not match the target. It is 0.9132776327957636, but should be close to 0.8. Try to increase the number of tuning steps.\n",
      "The acceptance probability does not match the target. It is 0.8982600499224711, but should be close to 0.8. Try to increase the number of tuning steps.\n",
      "WARNING:pymc3:The acceptance probability does not match the target. It is 0.8982600499224711, but should be close to 0.8. Try to increase the number of tuning steps.\n",
      "logp = -7,263.7, ||grad|| = 10.173: 100%|██████████| 29/29 [00:00<00:00, 795.35it/s]  \n",
      "Auto-assigning NUTS sampler...\n",
      "INFO:pymc3:Auto-assigning NUTS sampler...\n",
      "Initializing NUTS using jitter+adapt_diag...\n",
      "INFO:pymc3:Initializing NUTS using jitter+adapt_diag...\n",
      "Multiprocess sampling (4 chains in 2 jobs)\n",
      "INFO:pymc3:Multiprocess sampling (4 chains in 2 jobs)\n",
      "NUTS: [beta2_align, beta1_align, beta0_align, beta0_base]\n",
      "INFO:pymc3:NUTS: [beta2_align, beta1_align, beta0_align, beta0_base]\n",
      "Sampling 4 chains: 100%|██████████| 10000/10000 [01:15<00:00, 132.01draws/s]\n",
      "The acceptance probability does not match the target. It is 0.8874240533648959, but should be close to 0.8. Try to increase the number of tuning steps.\n",
      "WARNING:pymc3:The acceptance probability does not match the target. It is 0.8874240533648959, but should be close to 0.8. Try to increase the number of tuning steps.\n",
      "The acceptance probability does not match the target. It is 0.8882100871929527, but should be close to 0.8. Try to increase the number of tuning steps.\n",
      "WARNING:pymc3:The acceptance probability does not match the target. It is 0.8882100871929527, but should be close to 0.8. Try to increase the number of tuning steps.\n"
     ]
    }
   ],
   "source": [
    "indiv_traces = {}\n",
    "\n",
    "# centr_A = corpus.pairs['eigenvector_a'].values\n",
    "# centr_B = corpus.pairs['eigenvector_b'].values\n",
    "\n",
    "for cat, category in enumerate(categories):\n",
    "\n",
    "    N_b = [N_base[dyad][cat] for dyad in N_base]\n",
    "    N_a = [N_align[dyad][cat] for dyad in N_align]\n",
    "    C_b = [C_base[dyad][cat] for dyad in C_base]\n",
    "    C_a = [C_align[dyad][cat] for dyad in C_align]\n",
    "    \n",
    "    with pm.Model() as individual_model:\n",
    "\n",
    "        b0_base  = pm.Cauchy('beta0_base' , alpha=0, beta=2.5)\n",
    "#         b1_base  = pm.Normal('beta1_base' , mu=0, sd=1)\n",
    "#         b2_base  = pm.Normal('beta2_base' , mu=0, sd=1)\n",
    "        b0_align = pm.Normal('beta0_align', mu=0, sd=0.25)\n",
    "        b1_align = pm.Normal('beta1_align', mu=0, sd=1)\n",
    "        b2_align = pm.Normal('beta2_align', mu=0, sd=1)\n",
    "        \n",
    "        \n",
    "#         lincomb_base  = b0_base  + (b1_base  * centr_A) + (b2_base  * centr_B)\n",
    "        lincomb_align = b0_base + (b1_align * centr_A) + (b2_align * centr_B) + b0_align\n",
    "    \n",
    "    \n",
    "        mu_base  = pm.math.invlogit(b0_base)\n",
    "        mu_align = pm.math.invlogit(lincomb_align)\n",
    "    \n",
    "        base_count  = pm.Binomial('C_base' , p=mu_base , observed=C_b, n=N_b)\n",
    "        align_count = pm.Binomial('C_align', p=mu_align, observed=C_a, n=N_a)\n",
    "        \n",
    "    with individual_model:\n",
    "        start = pm.find_MAP()\n",
    "        step = pm.NUTS(scaling=start)\n",
    "        indiv_traces[category] = pm.sample(draws=2000, random_seed=123, progressbar=True, tune=500, chains=4)\n",
    "    "
   ]
  },
  {
   "cell_type": "code",
   "execution_count": null,
   "metadata": {},
   "outputs": [],
   "source": [
    "for category in categories:\n",
    "    df_trace = pm.trace_to_dataframe(indiv_traces[category])\n",
    "    pd.plotting.scatter_matrix(df_trace[-1000:], diagonal='kde')\n",
    "#     print(category)\n",
    "    pm.traceplot(indiv_traces[category])\n",
    "\n",
    "# df_trace = pm.trace_to_dataframe(indiv_traces['ppron'])\n",
    "# pd.plotting.scatter_matrix(df_trace[-1000:], diagonal='kde');\n",
    "# pm.traceplot(indiv_traces['ppron']);"
   ]
  },
  {
   "cell_type": "code",
   "execution_count": null,
   "metadata": {},
   "outputs": [],
   "source": [
    "for category in categories:\n",
    "    print(category)\n",
    "    print((indiv_traces[category]))"
   ]
  },
  {
   "cell_type": "code",
   "execution_count": null,
   "metadata": {},
   "outputs": [],
   "source": [
    "import seaborn as sn\n",
    "trace = indiv_traces['article']\n",
    "sn.kdeplot(trace['beta1_align'], trace['beta2_align'])\n",
    "plt.xlabel('c_A', fontsize=20)\n",
    "plt.ylabel('c_B', fontsize=20)\n",
    "plt.style.use('ggplot')"
   ]
  },
  {
   "cell_type": "code",
   "execution_count": null,
   "metadata": {},
   "outputs": [],
   "source": [
    "# plt.figure(figsize=(8, 10))\n",
    "for c in categories:\n",
    "    pm.plots.plot_posterior(indiv_traces[c], varnames=['beta0_base', 'beta0_align', 'beta1_align', 'beta2_align'])\n",
    "#     pm.forestplot(indiv_traces[c], varnames=['beta0_base', 'beta1_align', 'beta2_align'])"
   ]
  },
  {
   "cell_type": "code",
   "execution_count": null,
   "metadata": {},
   "outputs": [],
   "source": [
    "log_reg_code = \"\"\"\n",
    "data {\n",
    "    int<lower=0> D;   // number of dyads\n",
    "    \n",
    "    int N_base [D];   // num tokens baseline\n",
    "    int N_align[D];   // num tokens alignment\n",
    "    int C_base [D];   // num marker occurrences baseline\n",
    "    int C_align[D];   // num marker occurrences alignment\n",
    "    \n",
    "    real<lower=0, upper=1> c_A[D];   // centrality of addressees\n",
    "    real<lower=0, upper=1> c_B[D];   // centrality of speakers\n",
    "}\n",
    "transformed data {}\n",
    "parameters {\n",
    "    real beta0_base [D];\n",
    "    real beta1_base [D];\n",
    "    real beta2_base [D];\n",
    "    real beta0_align[D];\n",
    "    real beta1_align[D];\n",
    "    real beta2_align[D];\n",
    "}\n",
    "transformed parameters {\n",
    "    real lincomb_base [D]; \n",
    "    real lincomb_align[D];\n",
    "    \n",
    "    real<lower=0,upper=1> mu_base [D]; \n",
    "    real<lower=0,upper=1> mu_align[D];\n",
    "      \n",
    "    lincomb_base  = beta0_base  + beta1_base  * c_A + beta2_base  * c_B\n",
    "    lincomb_align = beta0_align + beta1_align * c_A + beta2_align * c_B\n",
    "    \n",
    "    mu_base  = inv_logit(lincomb_base)\n",
    "    mu_align = inv_logit(lincomb_base + lincomb_align)\n",
    "}\n",
    "model {\n",
    "    beta0_base  ~ normal(0, 1)\n",
    "    beta1_base  ~ normal(0, 1)\n",
    "    beta2_base  ~ normal(0, 1)\n",
    "    beta0_align ~ normal(0, 1)\n",
    "    beta1_align ~ normal(0, 1)\n",
    "    beta2_align ~ normal(0, 1)\n",
    "    \n",
    "    C_base  ~ binomial(N_base,  mu_base)\n",
    "    C_align ~ binomial(N_align, mu_align) \n",
    "  }\n",
    "}\n",
    "generated quantities {}\n",
    "\"\"\""
   ]
  },
  {
   "cell_type": "raw",
   "metadata": {},
   "source": [
    "marker_type = []\n",
    "N_b, N_a = [], []\n",
    "C_b, C_a = [], []\n",
    "\n",
    "n_dyads = len(N_base.keys())\n",
    "num_categories = len(categories)\n",
    "\n",
    "for cat, category in enumerate(categories):\n",
    "    N_b += [ N_base[dyad][cat] for dyad in N_base]\n",
    "    N_a += [N_align[dyad][cat] for dyad in N_align]\n",
    "    C_b += [ C_base[dyad][cat] for dyad in C_base]\n",
    "    C_a += [C_align[dyad][cat] for dyad in C_align]\n",
    "    marker_type += [cat + 1] * n_dyads  # +1 to meet pystan's taste\n",
    "    \n",
    "    \n",
    "with pm.Model() as individual_model:\n",
    "\n",
    "    b0_base  = pm.Cauchy('beta0_base' , alpha=0, beta=2.5)\n",
    "#         b1_base  = pm.Normal('beta1_base' , mu=0, sd=1)\n",
    "#         b2_base  = pm.Normal('beta2_base' , mu=0, sd=1)\n",
    "    b0_align = pm.Normal('beta0_align', mu=0, sd=1)\n",
    "    b1_align = pm.Normal('beta1_align', mu=0, sd=1)\n",
    "    b2_align = pm.Normal('beta2_align', mu=0, sd=1)\n",
    "\n",
    "#         lincomb_base  = b0_base  + (b1_base  * centr_A) + (b2_base  * centr_B)\n",
    "    lincomb_align = b0_base + b0_align + (b1_align * centr_A) + (b2_align * centr_B) \n",
    "\n",
    "\n",
    "    mu_base  = pm.math.invlogit(b0_base)\n",
    "    mu_align = pm.math.invlogit(lincomb_align)\n",
    "\n",
    "    base_count  = pm.Binomial('C_base' , p=mu_base , observed=C_b, n=N_b)\n",
    "    align_count = pm.Binomial('C_align', p=mu_align, observed=C_a, n=N_a)\n",
    "\n",
    "with individual_model:\n",
    "    start = pm.find_MAP()\n",
    "    step = pm.NUTS(scaling=start)\n",
    "    indiv_traces[category] = pm.sample(draws=2000, random_seed=123, progressbar=True, tune=500, chains=4)\n",
    "    "
   ]
  }
 ],
 "metadata": {
  "kernelspec": {
   "display_name": "Python 3",
   "language": "python",
   "name": "python3"
  },
  "language_info": {
   "codemirror_mode": {
    "name": "ipython",
    "version": 3
   },
   "file_extension": ".py",
   "mimetype": "text/x-python",
   "name": "python",
   "nbconvert_exporter": "python",
   "pygments_lexer": "ipython3",
   "version": "3.7.0"
  }
 },
 "nbformat": 4,
 "nbformat_minor": 2
}
