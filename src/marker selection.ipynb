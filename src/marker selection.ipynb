{
 "cells": [
  {
   "cell_type": "code",
   "execution_count": 5,
   "metadata": {},
   "outputs": [],
   "source": [
    "import utils\n",
    "import pickle\n",
    "\n",
    "from talkpages import WikiCorpusReader, WikiCorpus\n",
    "from alignment import Alignment\n",
    "from matplotlib import pyplot as plt\n",
    "from collections import defaultdict, Counter\n",
    "\n",
    "from copy import copy\n",
    "import numpy as np\n",
    "import networkx as nx"
   ]
  },
  {
   "cell_type": "code",
   "execution_count": 2,
   "metadata": {},
   "outputs": [],
   "source": [
    "ALL_META_CATEGORIES = {'stylistic': ['articles', 'negations', 'prepositions', 'numbers', 'pronouns'], \n",
    "                   'rhetoric': ['tentative', 'certainty', 'discrepancy', 'inclusive', 'exclusive'],\n",
    "                   'discursive': ['causation', 'insight', 'inhibition', 'communication', 'cognitive process', 'sensory process', 'motion'], # 'motion'\n",
    "                   'stance': ['affective process', 'positive emotion', 'optimism', 'negative emotion', 'anger', 'anxiety', 'sadness']}"
   ]
  },
  {
   "cell_type": "code",
   "execution_count": 3,
   "metadata": {},
   "outputs": [],
   "source": [
    "CATEGORIES = []\n",
    "for meta, cats in ALL_META_CATEGORIES.items():\n",
    "    CATEGORIES.extend(cats)\n",
    "    \n",
    "marker_dict, marker_words = utils.read_liwc_markers('../../../data/liwc/', CATEGORIES)"
   ]
  },
  {
   "cell_type": "markdown",
   "metadata": {},
   "source": [
    "First strategy: remove all overlapping markers. Let's compute the percentage of markers that are retained."
   ]
  },
  {
   "cell_type": "code",
   "execution_count": 11,
   "metadata": {},
   "outputs": [],
   "source": [
    "def overlapping_markers(marker_dictionary, category_list):\n",
    "    excluded_markers = Counter()\n",
    "    for cat in category_list:\n",
    "        for cat2 in category_list:\n",
    "            if cat != cat2:\n",
    "                for m in (set(marker_dictionary[cat]) & set(marker_dictionary[cat2])):\n",
    "                    excluded_markers[m] += 1\n",
    "    return excluded_markers"
   ]
  },
  {
   "cell_type": "code",
   "execution_count": 5,
   "metadata": {},
   "outputs": [],
   "source": [
    "taboo_list = overlapping_markers(marker_dict, CATEGORIES)"
   ]
  },
  {
   "cell_type": "markdown",
   "metadata": {},
   "source": [
    "**68%** of the markers appear in more than one category."
   ]
  },
  {
   "cell_type": "code",
   "execution_count": 6,
   "metadata": {},
   "outputs": [
    {
     "data": {
      "text/plain": [
       "67.77"
      ]
     },
     "execution_count": 6,
     "metadata": {},
     "output_type": "execute_result"
    }
   ],
   "source": [
    "round(len(taboo_list) / len(marker_words) * 100, 2)"
   ]
  },
  {
   "cell_type": "markdown",
   "metadata": {},
   "source": [
    "These are the number of markers in each category before and after filtering out every marker that appears in more than one category:"
   ]
  },
  {
   "cell_type": "code",
   "execution_count": 7,
   "metadata": {},
   "outputs": [
    {
     "name": "stdout",
     "output_type": "stream",
     "text": [
      "articles                3       3\n",
      "negations              31      21\n",
      "prepositions           43      32\n",
      "numbers                29      28\n",
      "pronouns               71      64\n",
      "tentative              81      43\n",
      "certainty              30      17\n",
      "discrepancy            32       0\n",
      "inclusive              16       9\n",
      "exclusive              19      13\n",
      "causation              50       0\n",
      "insight               117       0\n",
      "inhibition             64       0\n",
      "communication         127      40\n",
      "cognitive process     322      34\n",
      "sensory process       112      58\n",
      "motion                 73      72\n",
      "affective process     618       3\n",
      "positive emotion      264       0\n",
      "optimism               70       0\n",
      "negative emotion      345       0\n",
      "anger                 120       0\n",
      "anxiety                61       0\n",
      "sadness                72       0\n"
     ]
    }
   ],
   "source": [
    "for cat, markers in marker_dict.items():\n",
    "    print\n",
    "    print('{:20}  {:3}     {:3}'.format(cat, len(markers), len([m for m in markers if m not in taboo_list])))"
   ]
  },
  {
   "cell_type": "markdown",
   "metadata": {},
   "source": [
    "----"
   ]
  },
  {
   "cell_type": "markdown",
   "metadata": {},
   "source": [
    "Let's start by tackling the stance categories. Let's remove the _affective process_ category which includes most affective markers. Now **48%** of the markers appear in more than one category."
   ]
  },
  {
   "cell_type": "code",
   "execution_count": 8,
   "metadata": {},
   "outputs": [
    {
     "name": "stdout",
     "output_type": "stream",
     "text": [
      "articles                3       3\n",
      "negations              31      21\n",
      "prepositions           43      32\n",
      "numbers                29      28\n",
      "pronouns               71      64\n",
      "tentative              81      43\n",
      "certainty              30      17\n",
      "discrepancy            32       0\n",
      "inclusive              16       9\n",
      "exclusive              19      13\n",
      "causation              50       0\n",
      "insight               117       0\n",
      "inhibition             64       0\n",
      "communication         127      40\n",
      "cognitive process     322      34\n",
      "sensory process       112      58\n",
      "motion                 73      72\n",
      "affective process     618       3\n",
      "positive emotion      264       0\n",
      "optimism               70       0\n",
      "negative emotion      345       0\n",
      "anger                 120       0\n",
      "anxiety                61       0\n",
      "sadness                72       0\n"
     ]
    }
   ],
   "source": [
    "for cat, markers in marker_dict.items():\n",
    "    if cat not in CATEGORIES:\n",
    "        continue\n",
    "    print('{:20}  {:3}     {:3}'.format(cat, len(markers), len([m for m in markers if m not in taboo_list])))"
   ]
  },
  {
   "cell_type": "markdown",
   "metadata": {},
   "source": [
    "-----"
   ]
  },
  {
   "cell_type": "markdown",
   "metadata": {},
   "source": [
    "Stance categories: _Optimism_ is subsumed by _positive emotion_ and _negative emotion_ subsumes _anger, anxiety, sadness_."
   ]
  },
  {
   "cell_type": "code",
   "execution_count": 9,
   "metadata": {},
   "outputs": [
    {
     "name": "stdout",
     "output_type": "stream",
     "text": [
      "Overlap portion of positive emotion: 0.0%\n",
      "Overlap portion of anger: 0.0%\n",
      "\n",
      "Overlap portion of positive emotion: 0.0%\n",
      "Overlap portion of anxiety: 0.0%\n",
      "\n",
      "Overlap portion of positive emotion: 0.0%\n",
      "Overlap portion of sadness: 0.0%\n",
      "\n",
      "Overlap portion of positive emotion: 26.52%\n",
      "Overlap portion of optimism: 100.0%\n",
      "\n",
      "Overlap portion of negative emotion: 34.78%\n",
      "Overlap portion of anger: 100.0%\n",
      "\n",
      "Overlap portion of negative emotion: 17.68%\n",
      "Overlap portion of anxiety: 100.0%\n",
      "\n",
      "Overlap portion of negative emotion: 20.87%\n",
      "Overlap portion of sadness: 100.0%\n",
      "\n",
      "Overlap portion of negative emotion: 0.0%\n",
      "Overlap portion of optimism: 0.0%\n",
      "\n"
     ]
    }
   ],
   "source": [
    "for c2 in ['positive emotion', 'negative emotion']:\n",
    "    for c in ['anger', 'anxiety', 'sadness', 'optimism']:\n",
    "        overlap = set(marker_dict[c2]) & set(marker_dict[c])\n",
    "        print('Overlap portion of {}: {}%'.format(c2, round(100 * len(overlap) / len(marker_dict[c2]), 2)))\n",
    "        print('Overlap portion of {}: {}%'.format(c, round(100 * len(overlap) / len(marker_dict[c]), 2)))\n",
    "        print()\n"
   ]
  },
  {
   "cell_type": "markdown",
   "metadata": {},
   "source": [
    "Removing _affective process, optimism, anger, anxiety,_ and _sadness_. **28%** of the markers appear in more than one category."
   ]
  },
  {
   "cell_type": "code",
   "execution_count": 10,
   "metadata": {},
   "outputs": [
    {
     "name": "stdout",
     "output_type": "stream",
     "text": [
      "28.38%\n"
     ]
    }
   ],
   "source": [
    "META_CATEGORIES = {'stylistic': ['articles', 'negations', 'prepositions', 'numbers', 'pronouns'], # 'pronouns'\n",
    "                   'rethoric': ['tentative', 'certainty', 'discrepancy', 'inclusive', 'exclusive'],\n",
    "                   'discursive': ['causation', 'insight', 'inhibition', 'communication', 'cognitive process', 'sensory process', 'motion'], # 'motion'\n",
    "                   'stance': ['positive emotion', 'negative emotion']}\n",
    "\n",
    "CATEGORIES = []\n",
    "for meta, cats in META_CATEGORIES.items():\n",
    "    CATEGORIES.extend(cats)\n",
    "    \n",
    "marker_dict, marker_words = utils.read_liwc_markers('../../../data/liwc/', CATEGORIES)\n",
    "\n",
    "taboo_list = overlapping_markers(marker_dict, CATEGORIES)\n",
    "print('{}%'.format(round(len(taboo_list) / len(marker_words) * 100, 2)))"
   ]
  },
  {
   "cell_type": "code",
   "execution_count": 11,
   "metadata": {},
   "outputs": [
    {
     "name": "stdout",
     "output_type": "stream",
     "text": [
      "articles                3       3\n",
      "negations              31      21\n",
      "prepositions           43      32\n",
      "numbers                29      28\n",
      "pronouns               71      64\n",
      "tentative              81      43\n",
      "certainty              30      17\n",
      "discrepancy            32       0\n",
      "inclusive              16       9\n",
      "exclusive              19      13\n",
      "causation              50       0\n",
      "insight               117       0\n",
      "inhibition             64       0\n",
      "communication         127      44\n",
      "cognitive process     322      34\n",
      "sensory process       112      58\n",
      "motion                 73      72\n",
      "positive emotion      264     222\n",
      "negative emotion      345     309\n"
     ]
    }
   ],
   "source": [
    "for cat, markers in marker_dict.items():\n",
    "    if cat not in CATEGORIES:\n",
    "        continue\n",
    "    print('{:20}  {:3}     {:3}'.format(cat, len(markers), len([m for m in markers if m not in taboo_list])))"
   ]
  },
  {
   "cell_type": "markdown",
   "metadata": {},
   "source": [
    "Alternatively, let's try to remove the less fine-grained categories: _positive, negative, affective process_."
   ]
  },
  {
   "cell_type": "code",
   "execution_count": 12,
   "metadata": {},
   "outputs": [
    {
     "name": "stdout",
     "output_type": "stream",
     "text": [
      "33.7%\n"
     ]
    }
   ],
   "source": [
    "META_CATEGORIES = {'stylistic': ['articles', 'negations', 'prepositions', 'numbers', 'pronouns'], # 'pronouns'\n",
    "                   'rethoric': ['tentative', 'certainty', 'discrepancy', 'inclusive', 'exclusive'],\n",
    "                   'discursive': ['causation', 'insight', 'inhibition', 'communication', 'cognitive process', 'sensory process', 'motion'], # 'motion'\n",
    "                   'stance': ['optimism', 'anger', 'anxiety', 'sadness']}\n",
    "\n",
    "CATEGORIES = []\n",
    "for meta, cats in META_CATEGORIES.items():\n",
    "    CATEGORIES.extend(cats)\n",
    "    \n",
    "marker_dict, marker_words = utils.read_liwc_markers('../../../data/liwc/', CATEGORIES)\n",
    "\n",
    "taboo_list = overlapping_markers(marker_dict, CATEGORIES)\n",
    "print('{}%'.format(round(len(taboo_list) / len(marker_words) * 100, 2)))"
   ]
  },
  {
   "cell_type": "code",
   "execution_count": 13,
   "metadata": {},
   "outputs": [
    {
     "name": "stdout",
     "output_type": "stream",
     "text": [
      "articles                3       3\n",
      "negations              31      22\n",
      "prepositions           43      32\n",
      "numbers                29      28\n",
      "pronouns               71      64\n",
      "tentative              81      46\n",
      "certainty              30      19\n",
      "discrepancy            32       0\n",
      "inclusive              16       9\n",
      "exclusive              19      13\n",
      "causation              50       0\n",
      "insight               117       0\n",
      "inhibition             64       0\n",
      "communication         127      52\n",
      "cognitive process     322      37\n",
      "sensory process       112      63\n",
      "motion                 73      72\n",
      "optimism               70      50\n",
      "anger                 120     100\n",
      "anxiety                61      48\n",
      "sadness                72      68\n"
     ]
    }
   ],
   "source": [
    "for cat, markers in marker_dict.items():\n",
    "    if cat not in CATEGORIES:\n",
    "        continue\n",
    "    print('{:20}  {:3}     {:3}'.format(cat, len(markers), len([m for m in markers if m not in taboo_list])))"
   ]
  },
  {
   "cell_type": "markdown",
   "metadata": {},
   "source": [
    "The problematic categories are now: _discrepancy, inclusive, exclusive, causation, insight, inhibition_.\n",
    "\n",
    "_Causation, discrepancy, insight, inhibition_ are subsumed by _cognitive process_."
   ]
  },
  {
   "cell_type": "code",
   "execution_count": 14,
   "metadata": {},
   "outputs": [
    {
     "name": "stdout",
     "output_type": "stream",
     "text": [
      "Overlap portion of cognitive process: 9.94%\n",
      "Overlap portion of discrepancy: 100.0%\n",
      "\n",
      "Overlap portion of cognitive process: 0.0%\n",
      "Overlap portion of inclusive: 0.0%\n",
      "\n",
      "Overlap portion of cognitive process: 0.31%\n",
      "Overlap portion of exclusive: 5.26%\n",
      "\n",
      "Overlap portion of cognitive process: 15.53%\n",
      "Overlap portion of causation: 100.0%\n",
      "\n",
      "Overlap portion of cognitive process: 36.34%\n",
      "Overlap portion of insight: 100.0%\n",
      "\n",
      "Overlap portion of cognitive process: 19.88%\n",
      "Overlap portion of inhibition: 100.0%\n",
      "\n"
     ]
    }
   ],
   "source": [
    "for c2 in ['cognitive process']:\n",
    "    for c in ['discrepancy', 'inclusive', 'exclusive', 'causation', 'insight', 'inhibition', 'cognitive process']:\n",
    "        if c != c2:\n",
    "            overlap = set(marker_dict[c2]) & set(marker_dict[c])\n",
    "            print('Overlap portion of {}: {}%'.format(c2, round(100 * len(overlap) / len(marker_dict[c2]), 2)))\n",
    "            print('Overlap portion of {}: {}%'.format(c, round(100 * len(overlap) / len(marker_dict[c]), 2)))\n",
    "            print()\n",
    "\n"
   ]
  },
  {
   "cell_type": "markdown",
   "metadata": {},
   "source": [
    "We could keep these four categories discarding their cross-overlaps as well as the set difference between the cognitive process category and the union of the other four. This still leaves us with 64 markers."
   ]
  },
  {
   "cell_type": "code",
   "execution_count": 15,
   "metadata": {},
   "outputs": [
    {
     "name": "stdout",
     "output_type": "stream",
     "text": [
      "322\n"
     ]
    }
   ],
   "source": [
    "union = set(marker_dict['discrepancy']) | set(marker_dict['causation']) | set(marker_dict['insight']) | set(marker_dict['inhibition'])\n",
    "print(len(marker_dict['cognitive process']))\n",
    "\n",
    "new_marker_dict = copy(marker_dict)\n",
    "cognitive = set(marker_dict['cognitive process']) - union\n",
    "new_marker_dict['cognitive process'] = list(cognitive)"
   ]
  },
  {
   "cell_type": "code",
   "execution_count": 16,
   "metadata": {},
   "outputs": [
    {
     "name": "stdout",
     "output_type": "stream",
     "text": [
      "16.53%\n",
      "\n",
      "articles                3      3     3\n",
      "negations              31     22    22\n",
      "prepositions           43     32    32\n",
      "numbers                29     28    28\n",
      "pronouns               71     64    64\n",
      "tentative              81     46    46\n",
      "certainty              30     19    19\n",
      "discrepancy            32     22    22\n",
      "inclusive              16      9     9\n",
      "exclusive              19     13    13\n",
      "causation              50     40    40\n",
      "insight               117     76    76\n",
      "inhibition             64     50    50\n",
      "communication         127     52    52\n",
      "cognitive process     322    225    37\n",
      "sensory process       112     63    63\n",
      "motion                 73     72    72\n",
      "optimism               70     50    50\n",
      "anger                 120    100   100\n",
      "anxiety                61     48    48\n",
      "sadness                72     68    68\n"
     ]
    }
   ],
   "source": [
    "taboo_list = overlapping_markers(new_marker_dict, CATEGORIES)\n",
    "print('{}%'.format(round(len(taboo_list) / len(marker_words) * 100, 2)))\n",
    "print()\n",
    "\n",
    "for cat, markers in new_marker_dict.items():\n",
    "    if cat not in CATEGORIES:\n",
    "        continue\n",
    "    print('{:20}  {:3}    {:3}   {:3}'.format(cat, len(marker_dict[cat]),\n",
    "                                        len([m for m in marker_dict[cat] if m not in taboo_list]),\n",
    "                                        len([m for m in markers if m not in taboo_list])))"
   ]
  },
  {
   "cell_type": "markdown",
   "metadata": {},
   "source": [
    "Let's now decouple function words from stance and discursive markers."
   ]
  },
  {
   "cell_type": "code",
   "execution_count": 17,
   "metadata": {},
   "outputs": [],
   "source": [
    "fn_words =  set(marker_dict['articles']) | set(marker_dict['negations']) | set(marker_dict['prepositions']) | set(marker_dict['numbers']) | set(marker_dict['pronouns'])\n",
    "\n",
    "new_marker_dict2 = copy(new_marker_dict)\n",
    "for meta in ['rhetoric', 'discursive', 'stance']:\n",
    "    cats = ALL_META_CATEGORIES[meta]\n",
    "    for cat in cats:\n",
    "        try:\n",
    "            new_marker_dict2[cat] = list(set(new_marker_dict[cat]) - fn_words)\n",
    "        except KeyError:\n",
    "            pass"
   ]
  },
  {
   "cell_type": "code",
   "execution_count": 18,
   "metadata": {},
   "outputs": [
    {
     "name": "stdout",
     "output_type": "stream",
     "text": [
      "14.7%\n",
      "\n",
      "articles                3       3      3\n",
      "negations              31      27     27\n",
      "prepositions           43      42     42\n",
      "numbers                29      28     28\n",
      "pronouns               71      69     69\n",
      "tentative              81      51     46\n",
      "certainty              30      20     19\n",
      "discrepancy            32      26     22\n",
      "inclusive              16      15      9\n",
      "exclusive              19      16     13\n",
      "causation              50      41     40\n",
      "insight               117      76     76\n",
      "inhibition             64      50     50\n",
      "communication         127      52     52\n",
      "cognitive process     322      37     37\n",
      "sensory process       112      63     63\n",
      "motion                 73      72     72\n",
      "optimism               70      50     50\n",
      "anger                 120     100    100\n",
      "anxiety                61      48     48\n",
      "sadness                72      68     68\n"
     ]
    }
   ],
   "source": [
    "taboo_list = overlapping_markers(new_marker_dict2, CATEGORIES)\n",
    "print('{}%'.format(round(len(taboo_list) / len(marker_words) * 100, 2)))\n",
    "print()\n",
    "\n",
    "for cat in new_marker_dict2:\n",
    "    if cat not in CATEGORIES:\n",
    "        continue\n",
    "    print('{:20}  {:3}     {:3}    {:3}'.format(cat, len(marker_dict[cat]), \n",
    "                                                len([m for m in new_marker_dict[cat] if m not in taboo_list]),\n",
    "                                                len([m for m in new_marker_dict2[cat] if m not in taboo_list])\n",
    "                                               ))"
   ]
  },
  {
   "cell_type": "markdown",
   "metadata": {},
   "source": [
    "----"
   ]
  },
  {
   "cell_type": "markdown",
   "metadata": {},
   "source": [
    "# Now let's do the whole thing once again to obtain the final lists of markers."
   ]
  },
  {
   "cell_type": "code",
   "execution_count": 6,
   "metadata": {},
   "outputs": [],
   "source": [
    "RELEVANT_META_CATEGORIES = {'stylistic': ['articles', 'negations', 'prepositions', 'numbers', 'pronouns'], # 'pronouns'\n",
    "                   'rhetoric': ['tentative', 'certainty', 'discrepancy', 'inclusive', 'exclusive'],\n",
    "                   'discursive': ['causation', 'insight', 'inhibition', 'communication', 'cognitive process', 'sensory process', 'motion'], # 'motion'\n",
    "                   'stance': ['anger', 'anxiety', 'sadness', 'optimism']}"
   ]
  },
  {
   "cell_type": "markdown",
   "metadata": {},
   "source": [
    "> Note that the stance categories _positive emotion, negative emotion, affective process_ have been removed."
   ]
  },
  {
   "cell_type": "code",
   "execution_count": 7,
   "metadata": {},
   "outputs": [],
   "source": [
    "RELEVANT_CATEGORIES = []\n",
    "for meta, cats in RELEVANT_META_CATEGORIES.items():\n",
    "    RELEVANT_CATEGORIES.extend(cats)\n",
    "    \n",
    "relevant_marker_dict, relevant_marker_words = utils.read_liwc_markers('../../../data/liwc/', RELEVANT_CATEGORIES)\n",
    "baseline_marker_dict = copy(relevant_marker_dict)"
   ]
  },
  {
   "cell_type": "code",
   "execution_count": 8,
   "metadata": {},
   "outputs": [],
   "source": [
    "union = set(relevant_marker_dict['discrepancy']) | set(relevant_marker_dict['causation']) | set(relevant_marker_dict['insight']) | set(relevant_marker_dict['inhibition'])\n",
    "\n",
    "cognitive = set(relevant_marker_dict['cognitive process']) - union\n",
    "relevant_marker_dict['cognitive process'] = list(cognitive)\n"
   ]
  },
  {
   "cell_type": "code",
   "execution_count": 9,
   "metadata": {},
   "outputs": [],
   "source": [
    "fn_words =  set(relevant_marker_dict['articles']) | set(relevant_marker_dict['negations']) | set(relevant_marker_dict['prepositions']) | set(relevant_marker_dict['numbers']) | set(relevant_marker_dict['pronouns'])\n",
    "\n",
    "for meta in ['rhetoric', 'discursive', 'stance']:\n",
    "    cats = RELEVANT_META_CATEGORIES[meta]\n",
    "    for cat in cats:\n",
    "        try:\n",
    "            relevant_marker_dict[cat] = list(set(relevant_marker_dict[cat]) - fn_words)\n",
    "        except KeyError:\n",
    "            pass"
   ]
  },
  {
   "cell_type": "code",
   "execution_count": 12,
   "metadata": {},
   "outputs": [
    {
     "name": "stdout",
     "output_type": "stream",
     "text": [
      "articles                3       3\n",
      "negations              31      27\n",
      "prepositions           43      42\n",
      "numbers                29      28\n",
      "pronouns               71      69\n",
      "tentative              81      46\n",
      "certainty              30      19\n",
      "discrepancy            32      22\n",
      "inclusive              16       9\n",
      "exclusive              19      13\n",
      "causation              50      40\n",
      "insight               117      76\n",
      "inhibition             64      50\n",
      "communication         127      52\n",
      "cognitive process     322      37\n",
      "sensory process       112      63\n",
      "motion                 73      72\n",
      "anger                 120     100\n",
      "anxiety                61      48\n",
      "sadness                72      68\n",
      "optimism               70      50\n"
     ]
    }
   ],
   "source": [
    "taboo_list = overlapping_markers(relevant_marker_dict, RELEVANT_CATEGORIES)\n",
    "for cat, markers in relevant_marker_dict.items():\n",
    "    print('{:20}  {:3}     {:3}'.format(cat, len(baseline_marker_dict[cat]), len([m for m in markers if m not in taboo_list])))"
   ]
  },
  {
   "cell_type": "code",
   "execution_count": 13,
   "metadata": {},
   "outputs": [],
   "source": [
    "with open('../../../data/liwc/final.dict', 'wb') as f:\n",
    "    pickle.dump(relevant_marker_dict, f)"
   ]
  },
  {
   "cell_type": "raw",
   "metadata": {},
   "source": [
    "with open('../../../data/liwc/final_aas.dict', 'wb') as f:\n",
    "    pickle.dump(relevant_marker_dict, f)"
   ]
  },
  {
   "cell_type": "raw",
   "metadata": {},
   "source": [
    "with open('../../../data/liwc/final_aas.dict', 'rb') as f:\n",
    "    final_aas = pickle.load(f)\n",
    "    \n",
    "with open('../../../data/liwc/final_emo.dict', 'rb') as f:\n",
    "    final_emo = pickle.load(f)\n",
    "    \n",
    "final_aas['positive emotion'] = final_emo['positive emotion']\n",
    "final_aas['negative emotion'] = final_emo['negative emotion']\n",
    "\n",
    "with open('../../../data/liwc/final.dict', 'wb') as f:\n",
    "    pickle.dump(final_aas, f)"
   ]
  }
 ],
 "metadata": {
  "kernelspec": {
   "display_name": "Python 3",
   "language": "python",
   "name": "python3"
  },
  "language_info": {
   "codemirror_mode": {
    "name": "ipython",
    "version": 3
   },
   "file_extension": ".py",
   "mimetype": "text/x-python",
   "name": "python",
   "nbconvert_exporter": "python",
   "pygments_lexer": "ipython3",
   "version": "3.7.0"
  }
 },
 "nbformat": 4,
 "nbformat_minor": 2
}
