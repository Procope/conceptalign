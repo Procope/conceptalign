{
 "cells": [
  {
   "cell_type": "code",
   "execution_count": 1,
   "metadata": {},
   "outputs": [],
   "source": [
    "import utils\n",
    "import pickle\n",
    "\n",
    "from talkpages import WikiCorpusReader, WikiCorpus\n",
    "from alignment import Alignment\n",
    "from matplotlib import pyplot as plt\n",
    "from collections import defaultdict, Counter\n",
    "\n",
    "import numpy as np\n",
    "import networkx as nx\n"
   ]
  },
  {
   "cell_type": "code",
   "execution_count": 2,
   "metadata": {},
   "outputs": [
    {
     "name": "stderr",
     "output_type": "stream",
     "text": [
      "100%|██████████| 1236/1236 [00:00<00:00, 341130.47it/s]\n"
     ]
    },
    {
     "name": "stdout",
     "output_type": "stream",
     "text": [
      "Loading threads from original json file...\n"
     ]
    },
    {
     "name": "stderr",
     "output_type": "stream",
     "text": [
      " 61%|██████    | 101064/166322 [00:00<00:00, 497658.55it/s]"
     ]
    },
    {
     "name": "stdout",
     "output_type": "stream",
     "text": [
      "166322 threads loaded.\n",
      "Process threads.\n"
     ]
    },
    {
     "name": "stderr",
     "output_type": "stream",
     "text": [
      "100%|██████████| 166322/166322 [00:00<00:00, 514172.84it/s]\n",
      "100%|██████████| 1467/1467 [00:00<00:00, 114716.41it/s]\n"
     ]
    },
    {
     "name": "stdout",
     "output_type": "stream",
     "text": [
      "1467 valid utterances found.\n",
      "Utterances written to tab-separated file tsv/WikiControversial-sports.tsv\n"
     ]
    },
    {
     "name": "stderr",
     "output_type": "stream",
     "text": [
      "Tokenizing posts.: 100%|██████████| 1467/1467 [00:33<00:00, 44.36it/s]\n",
      "Detecting affective process.:   0%|          | 4/1467 [00:00<00:39, 36.82it/s]"
     ]
    },
    {
     "name": "stdout",
     "output_type": "stream",
     "text": [
      "Filtered 0 posts with 0-length utterances\n"
     ]
    },
    {
     "name": "stderr",
     "output_type": "stream",
     "text": [
      "Detecting affective process.: 100%|██████████| 1467/1467 [00:25<00:00, 56.93it/s]\n",
      "Detecting anger.: 100%|██████████| 1467/1467 [00:05<00:00, 258.55it/s]\n",
      "Detecting anxiety.: 100%|██████████| 1467/1467 [00:02<00:00, 536.42it/s]\n",
      "Detecting articles.: 100%|██████████| 1467/1467 [00:00<00:00, 142788.54it/s]\n",
      "Detecting causation.: 100%|██████████| 1467/1467 [00:01<00:00, 1032.71it/s]\n",
      "Detecting certainty.: 100%|██████████| 1467/1467 [00:00<00:00, 1583.77it/s]\n",
      "Detecting cognitive process.: 100%|██████████| 1467/1467 [00:09<00:00, 149.10it/s]\n",
      "Detecting communication.: 100%|██████████| 1467/1467 [00:03<00:00, 459.33it/s]\n",
      "Detecting discrepancy.: 100%|██████████| 1467/1467 [00:00<00:00, 3458.55it/s]\n",
      "Detecting exclusive.: 100%|██████████| 1467/1467 [00:00<00:00, 6589.27it/s]\n",
      "Detecting family.: 100%|██████████| 1467/1467 [00:01<00:00, 807.49it/s]\n",
      "Detecting feeling.: 100%|██████████| 1467/1467 [00:01<00:00, 985.00it/s] \n",
      "Detecting friends.: 100%|██████████| 1467/1467 [00:01<00:00, 1404.77it/s]\n",
      "Detecting hearing.: 100%|██████████| 1467/1467 [00:00<00:00, 3306.09it/s]\n",
      "Detecting humans.: 100%|██████████| 1467/1467 [00:00<00:00, 1704.93it/s]\n",
      "Detecting inclusive.: 100%|██████████| 1467/1467 [00:00<00:00, 9135.12it/s]\n",
      "Detecting inhibition.: 100%|██████████| 1467/1467 [00:02<00:00, 579.75it/s]\n",
      "Detecting insight.: 100%|██████████| 1467/1467 [00:03<00:00, 413.67it/s]\n",
      "Detecting negations.: 100%|██████████| 1467/1467 [00:00<00:00, 4717.54it/s]\n",
      "Detecting negative emotion.: 100%|██████████| 1467/1467 [00:13<00:00, 105.52it/s]\n",
      "Detecting numbers.: 100%|██████████| 1467/1467 [00:00<00:00, 1557.76it/s]\n",
      "Detecting optimism.: 100%|██████████| 1467/1467 [00:02<00:00, 550.43it/s]\n",
      "Detecting positive emotion.: 100%|██████████| 1467/1467 [00:09<00:00, 147.04it/s]\n",
      "Detecting positive feeling.: 100%|██████████| 1467/1467 [00:01<00:00, 1031.82it/s]\n",
      "Detecting prepositions.: 100%|██████████| 1467/1467 [00:00<00:00, 6171.93it/s]\n",
      "Detecting reference people.: 100%|██████████| 1467/1467 [00:00<00:00, 2274.06it/s]\n",
      "Detecting sadness.: 100%|██████████| 1467/1467 [00:02<00:00, 592.25it/s]\n",
      "Detecting seeing.: 100%|██████████| 1467/1467 [00:00<00:00, 3001.20it/s]\n",
      "Detecting sensory process.: 100%|██████████| 1467/1467 [00:01<00:00, 776.36it/s]\n",
      "Detecting social process.: 100%|██████████| 1467/1467 [00:08<00:00, 176.28it/s]\n",
      "Detecting tentative.: 100%|██████████| 1467/1467 [00:01<00:00, 776.56it/s]\n"
     ]
    }
   ],
   "source": [
    "# n_posts = Counter()\n",
    "# n_users = Counter()\n",
    "# avg_posts = Counter()\n",
    "\n",
    "avg_marker_counts = defaultdict(dict)  # topic -> [m1, m2, ...] -> mean(m)\n",
    "\n",
    "CATEGORIES = list(sorted(['family', 'optimism', 'feeling', 'positive emotion', \n",
    "                     'affective process', 'friends', 'positive feeling',\n",
    "                     'anger', 'hearing', 'prepositions', 'anxiety',\n",
    "                     'humans', 'reference people', 'articles', 'inclusive',\n",
    "                     'sadness', 'causation', 'inhibition', 'seeing',\n",
    "                     'certainty', 'insight', 'sensory process', 'cognitive process',\n",
    "                     'social process', 'communication', 'negations', 'tentative',\n",
    "                     'discrepancy', 'negative emotion', 'exclusive', 'numbers']))\n",
    "\n",
    "TOPICS = ['entertainment', 'environment', 'history', 'law', 'linguistics',\n",
    "              'media', 'people', 'philosophy', 'politics', 'psychiatry',\n",
    "              'religion', 'science', 'sexuality', 'sports', 'technology']\n",
    "\n",
    "TOPICS_ = ['sports']\n",
    "for TOPIC in TOPICS:\n",
    "\n",
    "    corpus_reader = WikiCorpusReader('../../data/controversial/')\n",
    "    corpus = WikiCorpus(corpus_reader.json_to_tsv('tsv/', topic_list=[TOPIC]))    \n",
    "\n",
    "#     n_posts[TOPIC] = len(corpus.posts)\n",
    "#     n_users[TOPIC] = len(corpus.posts.groupby('author_name'))\n",
    "    \n",
    "#     avg_posts[TOPIC] = round(np.mean([n for n \n",
    "#                                       in corpus.posts.groupby('author_name')['text'].count()]), 2)\n",
    "    \n",
    "    corpus.tokenize_posts()\n",
    "\n",
    "    markers, marker_words = utils.read_liwc_markers('../../data/liwc/', CATEGORIES)\n",
    "\n",
    "    corpus.count_marker_categories(markers)\n",
    "    for CAT in CATEGORIES:\n",
    "        avg_marker_counts[TOPIC][CAT] = round(corpus.posts[CAT].mean(), 2)\n",
    "        \n",
    "    corpus.save('./with_counts/{}_wcounts.csv'.format(TOPIC))\n",
    "    \n",
    "with open('avg_marker_counts.pickle') as f:\n",
    "    pickle.dump(avg_marker_counts, f)\n"
   ]
  },
  {
   "cell_type": "code",
   "execution_count": 5,
   "metadata": {},
   "outputs": [
    {
     "data": {
      "text/plain": [
       "{'affective process': 1.9802317655078392,\n",
       " 'anger': 0.1929107021131561,\n",
       " 'anxiety': 0.04294478527607362,\n",
       " 'articles': 6.158827539195637,\n",
       " 'causation': 0.809134287661895,\n",
       " 'certainty': 0.7709611451942741,\n",
       " 'cognitive process': 4.649625085207908,\n",
       " 'communication': 1.1233810497614178,\n",
       " 'discrepancy': 1.587593728698023,\n",
       " 'exclusive': 2.830947511929107,\n",
       " 'family': 0.04226312201772325,\n",
       " 'feeling': 0.10974778459441036,\n",
       " 'friends': 0.028629856850715747,\n",
       " 'hearing': 0.48807089297886846,\n",
       " 'humans': 0.24267211997273347,\n",
       " 'inclusive': 4.229038854805726,\n",
       " 'inhibition': 0.1983640081799591,\n",
       " 'insight': 1.2365371506475802,\n",
       " 'negations': 1.047034764826176,\n",
       " 'negative emotion': 0.5289706884798909,\n",
       " 'numbers': 0.5971370143149284,\n",
       " 'optimism': 0.4887525562372188,\n",
       " 'positive emotion': 1.4505794137695978,\n",
       " 'positive feeling': 0.13769597818677573,\n",
       " 'prepositions': 9.27266530334015,\n",
       " 'reference people': 2.1976823449216085,\n",
       " 'sadness': 0.08316291751874574,\n",
       " 'seeing': 0.4178595773687798,\n",
       " 'sensory process': 1.0231765507839128,\n",
       " 'social process': 4.325835037491479,\n",
       " 'tentative': 1.6980231765507838}"
      ]
     },
     "execution_count": 5,
     "metadata": {},
     "output_type": "execute_result"
    }
   ],
   "source": [
    "avg_marker_counts['sports']"
   ]
  },
  {
   "cell_type": "code",
   "execution_count": 3,
   "metadata": {},
   "outputs": [
    {
     "name": "stdout",
     "output_type": "stream",
     "text": [
      "                   Avg    Posts    Users \n"
     ]
    },
    {
     "ename": "NameError",
     "evalue": "name 'avg_posts' is not defined",
     "output_type": "error",
     "traceback": [
      "\u001b[0;31m---------------------------------------------------------------------------\u001b[0m",
      "\u001b[0;31mNameError\u001b[0m                                 Traceback (most recent call last)",
      "\u001b[0;32m<ipython-input-3-897e1042b1cf>\u001b[0m in \u001b[0;36m<module>\u001b[0;34m\u001b[0m\n\u001b[1;32m      1\u001b[0m \u001b[0mprint\u001b[0m\u001b[0;34m(\u001b[0m\u001b[0;34m'{:18} {:6} {:8} {:6}'\u001b[0m\u001b[0;34m.\u001b[0m\u001b[0mformat\u001b[0m\u001b[0;34m(\u001b[0m\u001b[0;34m''\u001b[0m\u001b[0;34m,\u001b[0m \u001b[0;34m'Avg'\u001b[0m\u001b[0;34m,\u001b[0m \u001b[0;34m'Posts'\u001b[0m\u001b[0;34m,\u001b[0m \u001b[0;34m'Users'\u001b[0m\u001b[0;34m)\u001b[0m\u001b[0;34m)\u001b[0m\u001b[0;34m\u001b[0m\u001b[0m\n\u001b[0;32m----> 2\u001b[0;31m \u001b[0;32mfor\u001b[0m \u001b[0mt\u001b[0m\u001b[0;34m,\u001b[0m \u001b[0mavg\u001b[0m \u001b[0;32min\u001b[0m \u001b[0mavg_posts\u001b[0m\u001b[0;34m.\u001b[0m\u001b[0mmost_common\u001b[0m\u001b[0;34m(\u001b[0m\u001b[0;34m)\u001b[0m\u001b[0;34m:\u001b[0m\u001b[0;34m\u001b[0m\u001b[0m\n\u001b[0m\u001b[1;32m      3\u001b[0m     \u001b[0mprint\u001b[0m\u001b[0;34m(\u001b[0m\u001b[0;34m'{:15} {:6} {:8} {:8}'\u001b[0m\u001b[0;34m.\u001b[0m\u001b[0mformat\u001b[0m\u001b[0;34m(\u001b[0m\u001b[0mt\u001b[0m\u001b[0;34m,\u001b[0m \u001b[0mavg\u001b[0m\u001b[0;34m,\u001b[0m \u001b[0mn_posts\u001b[0m\u001b[0;34m[\u001b[0m\u001b[0mt\u001b[0m\u001b[0;34m]\u001b[0m\u001b[0;34m,\u001b[0m \u001b[0mn_users\u001b[0m\u001b[0;34m[\u001b[0m\u001b[0mt\u001b[0m\u001b[0;34m]\u001b[0m\u001b[0;34m)\u001b[0m\u001b[0;34m)\u001b[0m\u001b[0;34m\u001b[0m\u001b[0m\n",
      "\u001b[0;31mNameError\u001b[0m: name 'avg_posts' is not defined"
     ]
    }
   ],
   "source": [
    "print('{:18} {:6} {:8} {:6}'.format('', 'Avg', 'Posts', 'Users'))\n",
    "for t, avg in avg_posts.most_common():\n",
    "    print('{:15} {:6} {:8} {:8}'.format(t, avg, n_posts[t], n_users[t]))"
   ]
  },
  {
   "cell_type": "code",
   "execution_count": null,
   "metadata": {},
   "outputs": [],
   "source": []
  }
 ],
 "metadata": {
  "kernelspec": {
   "display_name": "Python 3",
   "language": "python",
   "name": "python3"
  },
  "language_info": {
   "codemirror_mode": {
    "name": "ipython",
    "version": 3
   },
   "file_extension": ".py",
   "mimetype": "text/x-python",
   "name": "python",
   "nbconvert_exporter": "python",
   "pygments_lexer": "ipython3",
   "version": "3.7.0"
  }
 },
 "nbformat": 4,
 "nbformat_minor": 2
}
